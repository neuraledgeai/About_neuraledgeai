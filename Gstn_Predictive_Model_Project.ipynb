{
 "cells": [
  {
   "cell_type": "code",
   "execution_count": 1,
   "id": "4bb0c103-d74c-4649-b4c4-de20fe987213",
   "metadata": {},
   "outputs": [],
   "source": [
    "import pandas as pd\n",
    "import matplotlib.pyplot as plt\n",
    "import seaborn as sns\n",
    "import numpy as np\n",
    "from imblearn.over_sampling import RandomOverSampler\n",
    "from imblearn.under_sampling import RandomUnderSampler\n",
    "from sklearn.ensemble import RandomForestClassifier\n",
    "from sklearn.metrics import accuracy_score, classification_report\n",
    "from sklearn.model_selection import cross_val_score\n",
    "from sklearn.model_selection import GridSearchCV\n",
    "from sklearn.metrics import confusion_matrix, ConfusionMatrixDisplay\n",
    "from sklearn.metrics import roc_curve, roc_auc_score"
   ]
  },
  {
   "cell_type": "markdown",
   "id": "9fbf31a3-06e2-4173-9094-9b2f7b9d6362",
   "metadata": {},
   "source": [
    "**Task 1.0**: Load Training and Testing Datasets from CSV files.\n",
    "\n",
    "The following code is used to load the training and testing datasets from CSV files into pandas DataFrames."
   ]
  },
  {
   "cell_type": "code",
   "execution_count": 2,
   "id": "14e978a5-1c0f-4468-90fe-f798d7189b8d",
   "metadata": {},
   "outputs": [],
   "source": [
    "df_X_train = pd.read_csv(\"/Users/anoop/Downloads/Train_60/Train_60/X_Train_Data_Input.csv\")\n",
    "df_y_train = pd.read_csv(\"/Users/anoop/Downloads/Train_60/Train_60/Y_Train_Data_Target.csv\")\n",
    "df_X_test = pd.read_csv(\"/Users/anoop/Downloads/Test_20/Test_20/X_Test_Data_Input.csv\")\n",
    "df_y_test = pd.read_csv(\"/Users/anoop/Downloads/Test_20/Test_20/Y_Test_Data_Target.csv\")"
   ]
  },
  {
   "cell_type": "markdown",
   "id": "7f198c62-f7f8-4de4-b93c-f5f9b6e40531",
   "metadata": {},
   "source": [
    "## Fill Missing Values Function"
   ]
  },
  {
   "cell_type": "markdown",
   "id": "4e54765b-480f-413f-8868-e5854dac0784",
   "metadata": {},
   "source": [
    "**Task 1.1**: Create a function to handle missing values in the \"training dataset\".\n",
    "\n",
    "The approach used here will randomly samples existing non-missing values from the same column and fills the missing entries with these sampled values. This ensures that the imputed values come from the same distribution as the observed data."
   ]
  },
  {
   "cell_type": "code",
   "execution_count": 3,
   "id": "952a0945-da3f-4c81-b261-6c4328b3e1ce",
   "metadata": {},
   "outputs": [],
   "source": [
    "def fillMissingValues(columnName):\n",
    "    \n",
    "    # Count missing values in the test data\n",
    "    missing_count = df_X_train[columnName].isnull().sum()\n",
    "    \n",
    "    # Randomly sample non-missing values from the column in the test data\n",
    "    imputed_values = df_X_train[columnName].dropna().sample(missing_count, replace=True, random_state=42)\n",
    "    \n",
    "    # Use the missing mask on df_X_train\n",
    "    df_X_train.loc[df_X_train[columnName].isnull(), columnName] = imputed_values.values\n",
    "    "
   ]
  },
  {
   "cell_type": "markdown",
   "id": "bc9d2860-5663-40f4-b506-cc50a2eaad0b",
   "metadata": {},
   "source": [
    "**Task 1.2**: Create a function to handle missing values in the \"testing dataset\".\n",
    "\n",
    "Similar to the training data imputation function, this method randomly samples non-missing values from the same column and uses them to fill the missing entries in the test data. This ensures that the test data remains as realistic as possible while preserving its statistical distribution."
   ]
  },
  {
   "cell_type": "code",
   "execution_count": 4,
   "id": "d810824e-c6f0-4198-9d50-5eb69f93833f",
   "metadata": {},
   "outputs": [],
   "source": [
    "def fillMissingValuesTestData(columnName):\n",
    "    \n",
    "    # Count missing values in the test data\n",
    "    missing_count = df_X_test[columnName].isnull().sum()\n",
    "\n",
    "    # Randomly sample non-missing values from the column in the test data\n",
    "    imputed_values = df_X_test[columnName].dropna().sample(missing_count, replace=True, random_state=42)\n",
    "\n",
    "    # Use the missing mask on df_X_test\n",
    "    df_X_test.loc[df_X_test[columnName].isnull(), columnName] = imputed_values.values"
   ]
  },
  {
   "cell_type": "markdown",
   "id": "b1b45e36-42f1-434c-af87-44afdd6c076e",
   "metadata": {},
   "source": [
    "**Task 1.3**: Impute missing values for multiple columns in Training and Testing Datasets.\n",
    "\n",
    "The code given below applies the `fillMissingValues` and `fillMissingValuesTestData` functions to impute missing values across multiple specified columns in both the training (`df_X_train`) and testing (`df_X_test`) datasets."
   ]
  },
  {
   "cell_type": "code",
   "execution_count": 5,
   "id": "b0596187-de51-46ad-a169-752b8411f163",
   "metadata": {},
   "outputs": [],
   "source": [
    "# Training data\n",
    "fillMissingValues(columnName=\"Column0\")\n",
    "fillMissingValues(columnName=\"Column3\")\n",
    "fillMissingValues(columnName=\"Column4\")\n",
    "fillMissingValues(columnName=\"Column5\")\n",
    "fillMissingValues(columnName=\"Column6\")\n",
    "fillMissingValues(columnName=\"Column8\")\n",
    "fillMissingValues(columnName=\"Column9\")\n",
    "fillMissingValues(columnName=\"Column14\")\n",
    "fillMissingValues(columnName=\"Column15\")\n",
    "\n",
    "# Testing data\n",
    "fillMissingValuesTestData(columnName=\"Column0\")\n",
    "fillMissingValuesTestData(columnName=\"Column3\")\n",
    "fillMissingValuesTestData(columnName=\"Column4\")\n",
    "fillMissingValuesTestData(columnName=\"Column5\")\n",
    "fillMissingValuesTestData(columnName=\"Column6\")\n",
    "fillMissingValuesTestData(columnName=\"Column8\")\n",
    "fillMissingValuesTestData(columnName=\"Column9\")\n",
    "fillMissingValuesTestData(columnName=\"Column14\")\n",
    "fillMissingValuesTestData(columnName=\"Column15\")"
   ]
  },
  {
   "cell_type": "markdown",
   "id": "643ff910-941f-45e7-8378-39feaefebe24",
   "metadata": {},
   "source": [
    "## Split"
   ]
  },
  {
   "cell_type": "markdown",
   "id": "49afb609-d508-4dc4-958a-20e92d75edab",
   "metadata": {},
   "source": [
    "**Task 1.4**: Prepare feature matrices and target vectors for model training and testing."
   ]
  },
  {
   "cell_type": "code",
   "execution_count": 6,
   "id": "0822dd3e-a798-4db2-9392-de1702a5517f",
   "metadata": {},
   "outputs": [
    {
     "name": "stdout",
     "output_type": "stream",
     "text": [
      "Training Data Feature Matrix Shape:  (785133, 22)\n",
      "Training Data Target Vector Shape:  (785133,)\n",
      "\n",
      "Testing Data Feature Matrix Shape:  (785133, 22)\n",
      "Testing Data Target Vector Shape:  (785133,)\n"
     ]
    }
   ],
   "source": [
    "features = [\"Column0\", \"Column1\", \"Column2\", \"Column3\", \"Column4\", \"Column5\", \"Column6\", \"Column7\", \"Column8\", \"Column9\", \"Column10\", \"Column11\", \"Column12\", \"Column13\", \"Column14\", \"Column15\", \"Column16\", \"Column17\", \"Column18\", \"Column19\", \"Column20\", \"Column21\"]\n",
    "target = \"target\"\n",
    "\n",
    "X_train = df_X_train[features]\n",
    "y_train = df_y_train[target]\n",
    "\n",
    "X_test = df_X_test[features]\n",
    "y_test = df_y_test[target]\n",
    "\n",
    "print(\"Training Data Feature Matrix Shape: \", X_train.shape)\n",
    "print(\"Training Data Target Vector Shape: \", y_train.shape)\n",
    "print()\n",
    "print(\"Testing Data Feature Matrix Shape: \", X_train.shape)\n",
    "print(\"Testing Data Target Vector Shape: \", y_train.shape)"
   ]
  },
  {
   "cell_type": "markdown",
   "id": "89c33f08-1bfb-4538-aeab-9a9ae2c10af4",
   "metadata": {},
   "source": [
    "## Resample"
   ]
  },
  {
   "cell_type": "markdown",
   "id": "2b70785e-98c5-406b-be5b-de40471c35d2",
   "metadata": {},
   "source": [
    "**Task 1.5**: Handle class imbalance with `RandomOverSampler`.\n",
    "\n",
    "The code given below applies **Random Oversampling** to balance the target classes in the training data. This technique is used to increase the number of instances in the minority class by randomly duplicating examples from that class until both classes have an equal number of instances. This helps the model learn better from underrepresented classes and avoid bias towards the majority class."
   ]
  },
  {
   "cell_type": "code",
   "execution_count": 7,
   "id": "6d00e096-4987-4168-9740-e281bd6e0805",
   "metadata": {},
   "outputs": [
    {
     "data": {
      "text/plain": [
       "target\n",
       "0    0.5\n",
       "1    0.5\n",
       "Name: proportion, dtype: float64"
      ]
     },
     "execution_count": 7,
     "metadata": {},
     "output_type": "execute_result"
    }
   ],
   "source": [
    "over_sampler = RandomOverSampler(random_state=42)\n",
    "X_train_over, y_train_over = over_sampler.fit_resample(X_train, y_train)\n",
    "y_train_over.value_counts(normalize=True)"
   ]
  },
  {
   "cell_type": "markdown",
   "id": "827b2764-b133-41b4-bb98-ca8fd3227620",
   "metadata": {},
   "source": [
    "## Model Building"
   ]
  },
  {
   "cell_type": "markdown",
   "id": "75e2ad43-94ad-420b-9c65-3f15af0c7284",
   "metadata": {},
   "source": [
    "### Baseline"
   ]
  },
  {
   "cell_type": "markdown",
   "id": "801adbd1-aa15-47ab-a300-8cf070c3f875",
   "metadata": {},
   "source": [
    "**Task 1.6**: Calculate Baseline Accuracy.\n",
    "\n",
    "This code given below calculates the baseline accuracy of the model, which is simply the accuracy a model would achieve if it always predicted the majority class. It serves as a reference point to compare how well the model performs."
   ]
  },
  {
   "cell_type": "code",
   "execution_count": 8,
   "id": "753b73c4-9e18-4d79-825f-d33752d97a19",
   "metadata": {},
   "outputs": [
    {
     "name": "stdout",
     "output_type": "stream",
     "text": [
      "Baseline Accuracy:  0.91\n"
     ]
    }
   ],
   "source": [
    "baseline = y_train.value_counts(normalize=True).max()\n",
    "print(\"Baseline Accuracy: \", round(baseline, 2))"
   ]
  },
  {
   "cell_type": "markdown",
   "id": "8e348baa-7917-43f8-b554-8570f5ceec6b",
   "metadata": {},
   "source": [
    "### Iterate"
   ]
  },
  {
   "cell_type": "markdown",
   "id": "8438f729-64b2-4aa1-8ba8-fc1238b4a65a",
   "metadata": {},
   "source": [
    "**Task 1.7**: Train a Random Forest Classifier.\n",
    "\n",
    "This code snippet given below is responsible for training a Random Forest Classifier model. Here, the model is trained using the balanced dataset generated through oversampling, which helps address the class imbalance issue."
   ]
  },
  {
   "cell_type": "code",
   "execution_count": 9,
   "id": "e0cc9474-ff73-497b-9a31-872308c1881c",
   "metadata": {},
   "outputs": [
    {
     "data": {
      "text/html": [
       "<style>#sk-container-id-1 {\n",
       "  /* Definition of color scheme common for light and dark mode */\n",
       "  --sklearn-color-text: black;\n",
       "  --sklearn-color-line: gray;\n",
       "  /* Definition of color scheme for unfitted estimators */\n",
       "  --sklearn-color-unfitted-level-0: #fff5e6;\n",
       "  --sklearn-color-unfitted-level-1: #f6e4d2;\n",
       "  --sklearn-color-unfitted-level-2: #ffe0b3;\n",
       "  --sklearn-color-unfitted-level-3: chocolate;\n",
       "  /* Definition of color scheme for fitted estimators */\n",
       "  --sklearn-color-fitted-level-0: #f0f8ff;\n",
       "  --sklearn-color-fitted-level-1: #d4ebff;\n",
       "  --sklearn-color-fitted-level-2: #b3dbfd;\n",
       "  --sklearn-color-fitted-level-3: cornflowerblue;\n",
       "\n",
       "  /* Specific color for light theme */\n",
       "  --sklearn-color-text-on-default-background: var(--sg-text-color, var(--theme-code-foreground, var(--jp-content-font-color1, black)));\n",
       "  --sklearn-color-background: var(--sg-background-color, var(--theme-background, var(--jp-layout-color0, white)));\n",
       "  --sklearn-color-border-box: var(--sg-text-color, var(--theme-code-foreground, var(--jp-content-font-color1, black)));\n",
       "  --sklearn-color-icon: #696969;\n",
       "\n",
       "  @media (prefers-color-scheme: dark) {\n",
       "    /* Redefinition of color scheme for dark theme */\n",
       "    --sklearn-color-text-on-default-background: var(--sg-text-color, var(--theme-code-foreground, var(--jp-content-font-color1, white)));\n",
       "    --sklearn-color-background: var(--sg-background-color, var(--theme-background, var(--jp-layout-color0, #111)));\n",
       "    --sklearn-color-border-box: var(--sg-text-color, var(--theme-code-foreground, var(--jp-content-font-color1, white)));\n",
       "    --sklearn-color-icon: #878787;\n",
       "  }\n",
       "}\n",
       "\n",
       "#sk-container-id-1 {\n",
       "  color: var(--sklearn-color-text);\n",
       "}\n",
       "\n",
       "#sk-container-id-1 pre {\n",
       "  padding: 0;\n",
       "}\n",
       "\n",
       "#sk-container-id-1 input.sk-hidden--visually {\n",
       "  border: 0;\n",
       "  clip: rect(1px 1px 1px 1px);\n",
       "  clip: rect(1px, 1px, 1px, 1px);\n",
       "  height: 1px;\n",
       "  margin: -1px;\n",
       "  overflow: hidden;\n",
       "  padding: 0;\n",
       "  position: absolute;\n",
       "  width: 1px;\n",
       "}\n",
       "\n",
       "#sk-container-id-1 div.sk-dashed-wrapped {\n",
       "  border: 1px dashed var(--sklearn-color-line);\n",
       "  margin: 0 0.4em 0.5em 0.4em;\n",
       "  box-sizing: border-box;\n",
       "  padding-bottom: 0.4em;\n",
       "  background-color: var(--sklearn-color-background);\n",
       "}\n",
       "\n",
       "#sk-container-id-1 div.sk-container {\n",
       "  /* jupyter's `normalize.less` sets `[hidden] { display: none; }`\n",
       "     but bootstrap.min.css set `[hidden] { display: none !important; }`\n",
       "     so we also need the `!important` here to be able to override the\n",
       "     default hidden behavior on the sphinx rendered scikit-learn.org.\n",
       "     See: https://github.com/scikit-learn/scikit-learn/issues/21755 */\n",
       "  display: inline-block !important;\n",
       "  position: relative;\n",
       "}\n",
       "\n",
       "#sk-container-id-1 div.sk-text-repr-fallback {\n",
       "  display: none;\n",
       "}\n",
       "\n",
       "div.sk-parallel-item,\n",
       "div.sk-serial,\n",
       "div.sk-item {\n",
       "  /* draw centered vertical line to link estimators */\n",
       "  background-image: linear-gradient(var(--sklearn-color-text-on-default-background), var(--sklearn-color-text-on-default-background));\n",
       "  background-size: 2px 100%;\n",
       "  background-repeat: no-repeat;\n",
       "  background-position: center center;\n",
       "}\n",
       "\n",
       "/* Parallel-specific style estimator block */\n",
       "\n",
       "#sk-container-id-1 div.sk-parallel-item::after {\n",
       "  content: \"\";\n",
       "  width: 100%;\n",
       "  border-bottom: 2px solid var(--sklearn-color-text-on-default-background);\n",
       "  flex-grow: 1;\n",
       "}\n",
       "\n",
       "#sk-container-id-1 div.sk-parallel {\n",
       "  display: flex;\n",
       "  align-items: stretch;\n",
       "  justify-content: center;\n",
       "  background-color: var(--sklearn-color-background);\n",
       "  position: relative;\n",
       "}\n",
       "\n",
       "#sk-container-id-1 div.sk-parallel-item {\n",
       "  display: flex;\n",
       "  flex-direction: column;\n",
       "}\n",
       "\n",
       "#sk-container-id-1 div.sk-parallel-item:first-child::after {\n",
       "  align-self: flex-end;\n",
       "  width: 50%;\n",
       "}\n",
       "\n",
       "#sk-container-id-1 div.sk-parallel-item:last-child::after {\n",
       "  align-self: flex-start;\n",
       "  width: 50%;\n",
       "}\n",
       "\n",
       "#sk-container-id-1 div.sk-parallel-item:only-child::after {\n",
       "  width: 0;\n",
       "}\n",
       "\n",
       "/* Serial-specific style estimator block */\n",
       "\n",
       "#sk-container-id-1 div.sk-serial {\n",
       "  display: flex;\n",
       "  flex-direction: column;\n",
       "  align-items: center;\n",
       "  background-color: var(--sklearn-color-background);\n",
       "  padding-right: 1em;\n",
       "  padding-left: 1em;\n",
       "}\n",
       "\n",
       "\n",
       "/* Toggleable style: style used for estimator/Pipeline/ColumnTransformer box that is\n",
       "clickable and can be expanded/collapsed.\n",
       "- Pipeline and ColumnTransformer use this feature and define the default style\n",
       "- Estimators will overwrite some part of the style using the `sk-estimator` class\n",
       "*/\n",
       "\n",
       "/* Pipeline and ColumnTransformer style (default) */\n",
       "\n",
       "#sk-container-id-1 div.sk-toggleable {\n",
       "  /* Default theme specific background. It is overwritten whether we have a\n",
       "  specific estimator or a Pipeline/ColumnTransformer */\n",
       "  background-color: var(--sklearn-color-background);\n",
       "}\n",
       "\n",
       "/* Toggleable label */\n",
       "#sk-container-id-1 label.sk-toggleable__label {\n",
       "  cursor: pointer;\n",
       "  display: block;\n",
       "  width: 100%;\n",
       "  margin-bottom: 0;\n",
       "  padding: 0.5em;\n",
       "  box-sizing: border-box;\n",
       "  text-align: center;\n",
       "}\n",
       "\n",
       "#sk-container-id-1 label.sk-toggleable__label-arrow:before {\n",
       "  /* Arrow on the left of the label */\n",
       "  content: \"▸\";\n",
       "  float: left;\n",
       "  margin-right: 0.25em;\n",
       "  color: var(--sklearn-color-icon);\n",
       "}\n",
       "\n",
       "#sk-container-id-1 label.sk-toggleable__label-arrow:hover:before {\n",
       "  color: var(--sklearn-color-text);\n",
       "}\n",
       "\n",
       "/* Toggleable content - dropdown */\n",
       "\n",
       "#sk-container-id-1 div.sk-toggleable__content {\n",
       "  max-height: 0;\n",
       "  max-width: 0;\n",
       "  overflow: hidden;\n",
       "  text-align: left;\n",
       "  /* unfitted */\n",
       "  background-color: var(--sklearn-color-unfitted-level-0);\n",
       "}\n",
       "\n",
       "#sk-container-id-1 div.sk-toggleable__content.fitted {\n",
       "  /* fitted */\n",
       "  background-color: var(--sklearn-color-fitted-level-0);\n",
       "}\n",
       "\n",
       "#sk-container-id-1 div.sk-toggleable__content pre {\n",
       "  margin: 0.2em;\n",
       "  border-radius: 0.25em;\n",
       "  color: var(--sklearn-color-text);\n",
       "  /* unfitted */\n",
       "  background-color: var(--sklearn-color-unfitted-level-0);\n",
       "}\n",
       "\n",
       "#sk-container-id-1 div.sk-toggleable__content.fitted pre {\n",
       "  /* unfitted */\n",
       "  background-color: var(--sklearn-color-fitted-level-0);\n",
       "}\n",
       "\n",
       "#sk-container-id-1 input.sk-toggleable__control:checked~div.sk-toggleable__content {\n",
       "  /* Expand drop-down */\n",
       "  max-height: 200px;\n",
       "  max-width: 100%;\n",
       "  overflow: auto;\n",
       "}\n",
       "\n",
       "#sk-container-id-1 input.sk-toggleable__control:checked~label.sk-toggleable__label-arrow:before {\n",
       "  content: \"▾\";\n",
       "}\n",
       "\n",
       "/* Pipeline/ColumnTransformer-specific style */\n",
       "\n",
       "#sk-container-id-1 div.sk-label input.sk-toggleable__control:checked~label.sk-toggleable__label {\n",
       "  color: var(--sklearn-color-text);\n",
       "  background-color: var(--sklearn-color-unfitted-level-2);\n",
       "}\n",
       "\n",
       "#sk-container-id-1 div.sk-label.fitted input.sk-toggleable__control:checked~label.sk-toggleable__label {\n",
       "  background-color: var(--sklearn-color-fitted-level-2);\n",
       "}\n",
       "\n",
       "/* Estimator-specific style */\n",
       "\n",
       "/* Colorize estimator box */\n",
       "#sk-container-id-1 div.sk-estimator input.sk-toggleable__control:checked~label.sk-toggleable__label {\n",
       "  /* unfitted */\n",
       "  background-color: var(--sklearn-color-unfitted-level-2);\n",
       "}\n",
       "\n",
       "#sk-container-id-1 div.sk-estimator.fitted input.sk-toggleable__control:checked~label.sk-toggleable__label {\n",
       "  /* fitted */\n",
       "  background-color: var(--sklearn-color-fitted-level-2);\n",
       "}\n",
       "\n",
       "#sk-container-id-1 div.sk-label label.sk-toggleable__label,\n",
       "#sk-container-id-1 div.sk-label label {\n",
       "  /* The background is the default theme color */\n",
       "  color: var(--sklearn-color-text-on-default-background);\n",
       "}\n",
       "\n",
       "/* On hover, darken the color of the background */\n",
       "#sk-container-id-1 div.sk-label:hover label.sk-toggleable__label {\n",
       "  color: var(--sklearn-color-text);\n",
       "  background-color: var(--sklearn-color-unfitted-level-2);\n",
       "}\n",
       "\n",
       "/* Label box, darken color on hover, fitted */\n",
       "#sk-container-id-1 div.sk-label.fitted:hover label.sk-toggleable__label.fitted {\n",
       "  color: var(--sklearn-color-text);\n",
       "  background-color: var(--sklearn-color-fitted-level-2);\n",
       "}\n",
       "\n",
       "/* Estimator label */\n",
       "\n",
       "#sk-container-id-1 div.sk-label label {\n",
       "  font-family: monospace;\n",
       "  font-weight: bold;\n",
       "  display: inline-block;\n",
       "  line-height: 1.2em;\n",
       "}\n",
       "\n",
       "#sk-container-id-1 div.sk-label-container {\n",
       "  text-align: center;\n",
       "}\n",
       "\n",
       "/* Estimator-specific */\n",
       "#sk-container-id-1 div.sk-estimator {\n",
       "  font-family: monospace;\n",
       "  border: 1px dotted var(--sklearn-color-border-box);\n",
       "  border-radius: 0.25em;\n",
       "  box-sizing: border-box;\n",
       "  margin-bottom: 0.5em;\n",
       "  /* unfitted */\n",
       "  background-color: var(--sklearn-color-unfitted-level-0);\n",
       "}\n",
       "\n",
       "#sk-container-id-1 div.sk-estimator.fitted {\n",
       "  /* fitted */\n",
       "  background-color: var(--sklearn-color-fitted-level-0);\n",
       "}\n",
       "\n",
       "/* on hover */\n",
       "#sk-container-id-1 div.sk-estimator:hover {\n",
       "  /* unfitted */\n",
       "  background-color: var(--sklearn-color-unfitted-level-2);\n",
       "}\n",
       "\n",
       "#sk-container-id-1 div.sk-estimator.fitted:hover {\n",
       "  /* fitted */\n",
       "  background-color: var(--sklearn-color-fitted-level-2);\n",
       "}\n",
       "\n",
       "/* Specification for estimator info (e.g. \"i\" and \"?\") */\n",
       "\n",
       "/* Common style for \"i\" and \"?\" */\n",
       "\n",
       ".sk-estimator-doc-link,\n",
       "a:link.sk-estimator-doc-link,\n",
       "a:visited.sk-estimator-doc-link {\n",
       "  float: right;\n",
       "  font-size: smaller;\n",
       "  line-height: 1em;\n",
       "  font-family: monospace;\n",
       "  background-color: var(--sklearn-color-background);\n",
       "  border-radius: 1em;\n",
       "  height: 1em;\n",
       "  width: 1em;\n",
       "  text-decoration: none !important;\n",
       "  margin-left: 1ex;\n",
       "  /* unfitted */\n",
       "  border: var(--sklearn-color-unfitted-level-1) 1pt solid;\n",
       "  color: var(--sklearn-color-unfitted-level-1);\n",
       "}\n",
       "\n",
       ".sk-estimator-doc-link.fitted,\n",
       "a:link.sk-estimator-doc-link.fitted,\n",
       "a:visited.sk-estimator-doc-link.fitted {\n",
       "  /* fitted */\n",
       "  border: var(--sklearn-color-fitted-level-1) 1pt solid;\n",
       "  color: var(--sklearn-color-fitted-level-1);\n",
       "}\n",
       "\n",
       "/* On hover */\n",
       "div.sk-estimator:hover .sk-estimator-doc-link:hover,\n",
       ".sk-estimator-doc-link:hover,\n",
       "div.sk-label-container:hover .sk-estimator-doc-link:hover,\n",
       ".sk-estimator-doc-link:hover {\n",
       "  /* unfitted */\n",
       "  background-color: var(--sklearn-color-unfitted-level-3);\n",
       "  color: var(--sklearn-color-background);\n",
       "  text-decoration: none;\n",
       "}\n",
       "\n",
       "div.sk-estimator.fitted:hover .sk-estimator-doc-link.fitted:hover,\n",
       ".sk-estimator-doc-link.fitted:hover,\n",
       "div.sk-label-container:hover .sk-estimator-doc-link.fitted:hover,\n",
       ".sk-estimator-doc-link.fitted:hover {\n",
       "  /* fitted */\n",
       "  background-color: var(--sklearn-color-fitted-level-3);\n",
       "  color: var(--sklearn-color-background);\n",
       "  text-decoration: none;\n",
       "}\n",
       "\n",
       "/* Span, style for the box shown on hovering the info icon */\n",
       ".sk-estimator-doc-link span {\n",
       "  display: none;\n",
       "  z-index: 9999;\n",
       "  position: relative;\n",
       "  font-weight: normal;\n",
       "  right: .2ex;\n",
       "  padding: .5ex;\n",
       "  margin: .5ex;\n",
       "  width: min-content;\n",
       "  min-width: 20ex;\n",
       "  max-width: 50ex;\n",
       "  color: var(--sklearn-color-text);\n",
       "  box-shadow: 2pt 2pt 4pt #999;\n",
       "  /* unfitted */\n",
       "  background: var(--sklearn-color-unfitted-level-0);\n",
       "  border: .5pt solid var(--sklearn-color-unfitted-level-3);\n",
       "}\n",
       "\n",
       ".sk-estimator-doc-link.fitted span {\n",
       "  /* fitted */\n",
       "  background: var(--sklearn-color-fitted-level-0);\n",
       "  border: var(--sklearn-color-fitted-level-3);\n",
       "}\n",
       "\n",
       ".sk-estimator-doc-link:hover span {\n",
       "  display: block;\n",
       "}\n",
       "\n",
       "/* \"?\"-specific style due to the `<a>` HTML tag */\n",
       "\n",
       "#sk-container-id-1 a.estimator_doc_link {\n",
       "  float: right;\n",
       "  font-size: 1rem;\n",
       "  line-height: 1em;\n",
       "  font-family: monospace;\n",
       "  background-color: var(--sklearn-color-background);\n",
       "  border-radius: 1rem;\n",
       "  height: 1rem;\n",
       "  width: 1rem;\n",
       "  text-decoration: none;\n",
       "  /* unfitted */\n",
       "  color: var(--sklearn-color-unfitted-level-1);\n",
       "  border: var(--sklearn-color-unfitted-level-1) 1pt solid;\n",
       "}\n",
       "\n",
       "#sk-container-id-1 a.estimator_doc_link.fitted {\n",
       "  /* fitted */\n",
       "  border: var(--sklearn-color-fitted-level-1) 1pt solid;\n",
       "  color: var(--sklearn-color-fitted-level-1);\n",
       "}\n",
       "\n",
       "/* On hover */\n",
       "#sk-container-id-1 a.estimator_doc_link:hover {\n",
       "  /* unfitted */\n",
       "  background-color: var(--sklearn-color-unfitted-level-3);\n",
       "  color: var(--sklearn-color-background);\n",
       "  text-decoration: none;\n",
       "}\n",
       "\n",
       "#sk-container-id-1 a.estimator_doc_link.fitted:hover {\n",
       "  /* fitted */\n",
       "  background-color: var(--sklearn-color-fitted-level-3);\n",
       "}\n",
       "</style><div id=\"sk-container-id-1\" class=\"sk-top-container\"><div class=\"sk-text-repr-fallback\"><pre>RandomForestClassifier(random_state=42)</pre><b>In a Jupyter environment, please rerun this cell to show the HTML representation or trust the notebook. <br />On GitHub, the HTML representation is unable to render, please try loading this page with nbviewer.org.</b></div><div class=\"sk-container\" hidden><div class=\"sk-item\"><div class=\"sk-estimator fitted sk-toggleable\"><input class=\"sk-toggleable__control sk-hidden--visually\" id=\"sk-estimator-id-1\" type=\"checkbox\" checked><label for=\"sk-estimator-id-1\" class=\"sk-toggleable__label fitted sk-toggleable__label-arrow fitted\">&nbsp;&nbsp;RandomForestClassifier<a class=\"sk-estimator-doc-link fitted\" rel=\"noreferrer\" target=\"_blank\" href=\"https://scikit-learn.org/1.5/modules/generated/sklearn.ensemble.RandomForestClassifier.html\">?<span>Documentation for RandomForestClassifier</span></a><span class=\"sk-estimator-doc-link fitted\">i<span>Fitted</span></span></label><div class=\"sk-toggleable__content fitted\"><pre>RandomForestClassifier(random_state=42)</pre></div> </div></div></div></div>"
      ],
      "text/plain": [
       "RandomForestClassifier(random_state=42)"
      ]
     },
     "execution_count": 9,
     "metadata": {},
     "output_type": "execute_result"
    }
   ],
   "source": [
    "model = RandomForestClassifier(n_estimators=100, random_state=42)\n",
    "model.fit(X_train_over, y_train_over)"
   ]
  },
  {
   "cell_type": "markdown",
   "id": "81459706-be73-44f3-a826-7573bd0b06de",
   "metadata": {},
   "source": [
    "### Evaluate"
   ]
  },
  {
   "cell_type": "markdown",
   "id": "86531355-a689-4ab5-b564-b7bdeb967e8b",
   "metadata": {},
   "source": [
    "**Task 1.8**: Evaluate `model` accuracy."
   ]
  },
  {
   "cell_type": "code",
   "execution_count": 10,
   "id": "9dd7d63a-62cc-43a4-b442-afb88b3a16dc",
   "metadata": {},
   "outputs": [
    {
     "name": "stdout",
     "output_type": "stream",
     "text": [
      "Model Training Accuracy:  1.0\n",
      "Model Testing Accuracy:  1.0\n"
     ]
    }
   ],
   "source": [
    "acc_train = accuracy_score(y_train, model.predict(X_train))\n",
    "acc_test = accuracy_score(y_test, model.predict(X_test))\n",
    "\n",
    "print(\"Model Training Accuracy: \", round(acc_train, 2))\n",
    "print(\"Model Testing Accuracy: \", round(acc_train, 2))"
   ]
  },
  {
   "cell_type": "markdown",
   "id": "bb2c5c70-df43-471b-aaa8-baa40b32c425",
   "metadata": {},
   "source": [
    "**Task 1.9**: Evaluate cross-validation accuracy of the `model`.\n",
    "\n",
    "This code given below performs cross-validation on the oversampled training data to assess the generalizability of the `model`."
   ]
  },
  {
   "cell_type": "code",
   "execution_count": 11,
   "id": "9c97f6cd-6abc-4523-b776-d44e9f3f2105",
   "metadata": {},
   "outputs": [
    {
     "name": "stdout",
     "output_type": "stream",
     "text": [
      "0.988\n",
      "0.988\n",
      "0.987\n",
      "0.988\n",
      "0.988\n"
     ]
    }
   ],
   "source": [
    "cv_acc_scores = cross_val_score(\n",
    "    model, X_train_over, y_train_over, cv = 5, n_jobs = -1\n",
    ")\n",
    "for score in cv_acc_scores:\n",
    "    print(round(score,3))"
   ]
  },
  {
   "cell_type": "markdown",
   "id": "cced5a0e-199d-4527-8f90-2518fad099e1",
   "metadata": {},
   "source": [
    "Cross-validation shows consistent accuracy across different folds, with scores around **0.988**. This suggests that the model **generalizes well** and is robust across various subsets of the data, reducing the concern of overfitting. The near-perfect cross-validation scores reflect strong model performance, confirming that the classifier maintains its high accuracy across different samples of the training set. \n",
    "\n",
    "This also suggests the model is likely to perform similarly well when deployed in real-world scenarios with similar data characteristics."
   ]
  },
  {
   "cell_type": "markdown",
   "id": "cab7183c-2f37-4b1e-bfd8-2217cdff595d",
   "metadata": {},
   "source": [
    "## Model Metrics"
   ]
  },
  {
   "cell_type": "markdown",
   "id": "90165656-582f-4940-8988-f8292d421826",
   "metadata": {},
   "source": [
    "We’ve done a great job with our training and test accuracy—our model has surpassed the baseline, and that’s definitely something to feel good about. We’re moving in the right direction! But let’s not stop there. We want to dig a bit deeper to understand exactly how our model is performing.\n",
    "\n",
    "**Task 2.0**: Visualize `model` performance with a Confusion Matrix."
   ]
  },
  {
   "cell_type": "code",
   "execution_count": 12,
   "id": "56913efe-3e58-4f2c-b639-621c46937985",
   "metadata": {},
   "outputs": [
    {
     "data": {
      "image/png": "[encoded data removed]",
      "text/plain": [
       "<Figure size 640x480 with 2 Axes>"
      ]
     },
     "metadata": {},
     "output_type": "display_data"
    }
   ],
   "source": [
    "cm = confusion_matrix(y_test, model.predict(X_test))\n",
    "disp = ConfusionMatrixDisplay(confusion_matrix=cm)\n",
    "disp.plot();"
   ]
  },
  {
   "cell_type": "markdown",
   "id": "736ddf4a-940c-4b68-ae51-9d2296dac6c4",
   "metadata": {},
   "source": [
    "In the top left corner of the confusion matrix, we have *231,434 true negatives*. These are the cases where our model predicted that the observation belongs to class 0 (negative) and it was correct. On the opposite side, in the bottom right corner, we have *23,962 true positives*. These are the observations that our model predicted as class 1 (positive) and it was correct.\n",
    "\n",
    "Alright, these are the parts of the grid that we got right. **And the majority of the correct predictions, they come from our true negative, class 0**. Which makes sense that is the balance of this dataset (approx. 0.90% of the total observation belongs to Negative Class 0). \n",
    "\n",
    "This is also why we observe a lower number of false negatives (incorrectly predicting class 0) and a higher number of false positives (incorrectly predicting class 1). So we can say that our model works well at identifying the negative class.\n",
    "\n",
    "**Where we really need to improve is our True Positives**. This model has a hard time picking up those observations that are gonna go Positive Class 1. That is something we need to think about and figure out how we can optimise our model. "
   ]
  },
  {
   "cell_type": "markdown",
   "id": "55849481-e2ee-4b9f-9f62-40ce03979bdd",
   "metadata": {},
   "source": [
    "**Task 2.1**: Evaluate `model` performance with a Classificaton Report."
   ]
  },
  {
   "cell_type": "code",
   "execution_count": 13,
   "id": "030e7c17-7932-4196-8c12-27c54792713e",
   "metadata": {},
   "outputs": [
    {
     "name": "stdout",
     "output_type": "stream",
     "text": [
      "              precision    recall  f1-score   support\n",
      "\n",
      "           0       1.00      0.98      0.99    237034\n",
      "           1       0.81      0.97      0.88     24678\n",
      "\n",
      "    accuracy                           0.98    261712\n",
      "   macro avg       0.90      0.97      0.94    261712\n",
      "weighted avg       0.98      0.98      0.98    261712\n",
      "\n"
     ]
    }
   ],
   "source": [
    "report = classification_report(y_test, model.predict(X_test))\n",
    "print(report)"
   ]
  },
  {
   "cell_type": "markdown",
   "id": "e8335dce-1060-439b-b501-f7b46b6640ab",
   "metadata": {},
   "source": [
    "- **Accuracy**: The overall accuracy is 0.98 (98%), meaning the model correctly classified 98% of the test data.\n",
    "\n",
    "- **Precision**: Precision for class 1 is 0.81, meaning that out of all the instances the model predicted as class 1, 81% were correct. In contrast, class 0 has a perfect precision of 1.00.\n",
    "\n",
    "- **Recall**: Recall for class 1 is 0.97, meaning the model correctly identified 97% of the actual class 1 instances. This shows that the model is quite good at detecting positive instances (class 1).\n",
    "\n",
    "- **F1 Score**: F1-score is the harmonic mean of precision and recall. For class 1, an f1-score of 0.88 shows the model strikes a good balance between precision and recall, even though the precision is somewhat lower than the recall.\n",
    "\n"
   ]
  },
  {
   "cell_type": "markdown",
   "id": "76c93a5e-5e11-4ca9-ac68-d83251ffe092",
   "metadata": {},
   "source": [
    "**Task 2.2**: Plot the ROC curve and calculate AUC.\n",
    "\n",
    "This task generates a Receiver Operating Characteristic (ROC) curve for the `model`. The ROC curve visualizes the model's performance across various thresholds and is complemented by the Area Under the Curve (AUC), which quantifies the model's ability to distinguish between positive and negative classes."
   ]
  },
  {
   "cell_type": "code",
   "execution_count": 14,
   "id": "1fb645c9-76c9-4d67-a9df-bf46062a907c",
   "metadata": {},
   "outputs": [
    {
     "data": {
      "image/png": "[encoded data removed]",
      "text/plain": [
       "<Figure size 800x600 with 1 Axes>"
      ]
     },
     "metadata": {},
     "output_type": "display_data"
    }
   ],
   "source": [
    "# Predict probabilities for class 1\n",
    "y_probs = model.predict_proba(X_test)[:, 1]\n",
    "\n",
    "# Compute the ROC curve\n",
    "fpr, tpr, thresholds = roc_curve(y_test, y_probs)\n",
    "\n",
    "# Compute the AUC score\n",
    "roc_auc = roc_auc_score(y_test, y_probs)\n",
    "\n",
    "# Plot the ROC curve\n",
    "plt.figure(figsize=(8, 6))\n",
    "plt.plot(fpr, tpr, color='darkorange', lw=2, label=f'AUC = {roc_auc:.2f}')\n",
    "plt.plot([0, 1], [0, 1], color='navy', lw=2, linestyle='--')\n",
    "plt.xlim([0.0, 1.0])\n",
    "plt.ylim([0.0, 1.05])\n",
    "plt.xlabel('False Positive Rate')\n",
    "plt.ylabel('True Positive Rate')\n",
    "plt.title('Receiver Operating Characteristic (ROC) Curve')\n",
    "plt.legend(loc=\"lower right\")\n",
    "plt.grid(True)\n",
    "plt.show()"
   ]
  },
  {
   "cell_type": "markdown",
   "id": "a1acac3f-ce01-4b00-b9bb-ab1de4a25778",
   "metadata": {},
   "source": [
    "**What this chart shows**:\n",
    "\n",
    "- **True Positive Rate (TPR)** (on the y-axis) vs. **False Positive Rate (FPR)** (on the x-axis) at various thresholds.\n",
    "- The orange curve shows the model’s ability to balance between detecting true positives and limiting false positives.\n",
    "- The **dashed diagonal line** represents a model with no discrimination ability, essentially random guessing, where the true positive rate equals the false positive rate.\n",
    "- The **closer the orange curve is to the top-left corner**, the better the model is at distinguishing between the classes.\n",
    "\n",
    "Our model has a very high AUC score of 0.99, which is impressive. This means that our model is **almost perfect** at distinguishing between our two target classes: class 0 and class 1.\n",
    "\n"
   ]
  },
  {
   "cell_type": "markdown",
   "id": "2d1c01ac-7ff2-4d1a-b716-fdd96f1b9d14",
   "metadata": {},
   "source": [
    "## Optimize the Model for Real-World Use"
   ]
  },
  {
   "cell_type": "markdown",
   "id": "f3ff58c4-aae9-4ec4-bfbb-d546e1188e34",
   "metadata": {},
   "source": [
    "Our model has a high recall for class 1. However, it's precision is 0.81 for class 1, indicating that it might still misclassify some negative instances as positive. So to get a way to improve this model's performance in the real world we need to understand the **cost of false negatives and false positives** in its context. In other words, optimizing a machine learning model requires a deep understanding of the context in which it will be used. \n",
    "\n",
    "Unfortunately, in our case, the dataset we worked with is anonymous and doesn’t provide any additional context. As a result, we’re not able to accurately gauge the cost of a false positive or the cost of a false negative in this particular context.\n",
    "\n",
    "However, we’ve built flexibility into the model. One of the most effective ways to tune the model to better fit specific business needs is by adjusting the prediction threshold. "
   ]
  },
  {
   "cell_type": "markdown",
   "id": "772414f6-454e-4ac2-b35d-3933892846cc",
   "metadata": {},
   "source": [
    "**Task 2.3**: Extract a subset of predictions and their corresponding predicted probabilities from the `model`.\n",
    "\n",
    "By examining a small sample, we can gain insights into how the model makes decisions and the confidence it has in those predictions. For example, if the model predicts class 1 with a probability of 0.9, we can be quite confident in that prediction. However, if the probability is only 0.5, it suggests that the model is uncertain and that adjusting the prediction threshold may be warranted to optimize for our specific objectives. "
   ]
  },
  {
   "cell_type": "code",
   "execution_count": 15,
   "id": "dced2913-4a2c-4fd3-9ae7-bb52b2ac0735",
   "metadata": {},
   "outputs": [
    {
     "name": "stdout",
     "output_type": "stream",
     "text": [
      "Model Predictions:  [1 0 1 0 0]\n",
      "Prediction Probability:  [0.501, 0.0, 1.0, 0.0, 0.003]\n"
     ]
    }
   ],
   "source": [
    "sample_predictions = model.predict(X_test)[15:20]\n",
    "sample_prob = model.predict_proba(X_test)[15:20, -1]\n",
    "rounded_probs = [round(prob, 3) for prob in sample_prob]\n",
    "\n",
    "print(\"Model Predictions: \", sample_predictions)\n",
    "print(\"Prediction Probability: \", rounded_probs)"
   ]
  },
  {
   "cell_type": "markdown",
   "id": "d2ea813b-5ecb-4443-b62e-ddbd78d750a9",
   "metadata": {},
   "source": [
    "**Task 2.4**: Create a dataframe `results_df` to neatly display the model's predictions alongside their corresponding predicted probabilities. \n",
    "\n",
    "By organizing the data in this manner, we can facilitate a clearer analysis and presentation of the model's performance on a sample of the test set."
   ]
  },
  {
   "cell_type": "code",
   "execution_count": 16,
   "id": "a3c17181-653f-4c37-b056-5b6ea827beea",
   "metadata": {},
   "outputs": [
    {
     "data": {
      "text/html": [
       "<div>\n",
       "<style scoped>\n",
       "    .dataframe tbody tr th:only-of-type {\n",
       "        vertical-align: middle;\n",
       "    }\n",
       "\n",
       "    .dataframe tbody tr th {\n",
       "        vertical-align: top;\n",
       "    }\n",
       "\n",
       "    .dataframe thead th {\n",
       "        text-align: right;\n",
       "    }\n",
       "</style>\n",
       "<table border=\"1\" class=\"dataframe\">\n",
       "  <thead>\n",
       "    <tr style=\"text-align: right;\">\n",
       "      <th></th>\n",
       "      <th>Prediction Probability</th>\n",
       "    </tr>\n",
       "    <tr>\n",
       "      <th>Model Predictions</th>\n",
       "      <th></th>\n",
       "    </tr>\n",
       "  </thead>\n",
       "  <tbody>\n",
       "    <tr>\n",
       "      <th>1</th>\n",
       "      <td>0.501</td>\n",
       "    </tr>\n",
       "    <tr>\n",
       "      <th>0</th>\n",
       "      <td>0.000</td>\n",
       "    </tr>\n",
       "    <tr>\n",
       "      <th>1</th>\n",
       "      <td>1.000</td>\n",
       "    </tr>\n",
       "    <tr>\n",
       "      <th>0</th>\n",
       "      <td>0.000</td>\n",
       "    </tr>\n",
       "    <tr>\n",
       "      <th>0</th>\n",
       "      <td>0.003</td>\n",
       "    </tr>\n",
       "  </tbody>\n",
       "</table>\n",
       "</div>"
      ],
      "text/plain": [
       "                   Prediction Probability\n",
       "Model Predictions                        \n",
       "1                                   0.501\n",
       "0                                   0.000\n",
       "1                                   1.000\n",
       "0                                   0.000\n",
       "0                                   0.003"
      ]
     },
     "execution_count": 16,
     "metadata": {},
     "output_type": "execute_result"
    }
   ],
   "source": [
    "results_df = pd.DataFrame({\n",
    "    'Model Predictions': sample_predictions,\n",
    "    'Prediction Probability': rounded_probs\n",
    "}).set_index(\"Model Predictions\")\n",
    "results_df"
   ]
  },
  {
   "cell_type": "markdown",
   "id": "5c724231-8f17-4acf-bf12-e3c560257eb8",
   "metadata": {},
   "source": [
    "In analyzing the `results_df` DataFrame, we observe a crucial rule of thumb: probabilities above 0.5 lead the model to classify an observation as belonging to the positive class, while those below 0.5 are designated as negative. This insight not only sheds light on the model's predictions but also reveals the confidence level behind each decision. For instance, if we choose to adjust our decision threshold to 0.6, the model will classify an observation as positive only if its probability of being positive surpasses this elevated threshold. \n",
    "\n",
    "This adjustment allows us to exercise greater control over the predictions, enhancing our ability to minimize false positives while ensuring that we maintain a rigorous standard for what constitutes a positive classification.\n",
    "\n",
    "In practice, this means we could potentially reduce the number of false positives (classifying a negative observation as positive) by being more selective about what we consider a positive prediction, thus enhancing the model's reliability in critical applications."
   ]
  },
  {
   "cell_type": "markdown",
   "id": "399dcad3-e28b-43aa-972f-3921ca4583f2",
   "metadata": {},
   "source": [
    "**Task 2.5**:  Create a prediction function `make_prediction` with adjustable threshold.\n",
    "\n",
    "The objective of this function is to generate predictions based on a specified probability threshold. "
   ]
  },
  {
   "cell_type": "code",
   "execution_count": 17,
   "id": "2040325a-29a4-43ed-a7df-77dde19c7397",
   "metadata": {},
   "outputs": [],
   "source": [
    "def make_prediction(threshold=0.5):\n",
    "\n",
    "    # Take one observation in the test set\n",
    "    sample_data = pd.DataFrame(X_test.iloc[15]).T # Convert the first observation to a DataFrame\n",
    "    \n",
    "    # Get the predicted probability for class 1\n",
    "    prob = model.predict_proba(sample_data)[0][1]\n",
    "    \n",
    "    # Apply threshold to make a prediction\n",
    "    if prob > threshold:\n",
    "        result = \"Class 1 (Positive)\"\n",
    "    else:\n",
    "        result = \"Class 0 (Negative)\"\n",
    "    \n",
    "    return {\n",
    "        \"Prediction\": result,\n",
    "        \"Predicted Probability\": prob,\n",
    "        \"Threshold\": threshold\n",
    "    }\n"
   ]
  },
  {
   "cell_type": "markdown",
   "id": "b567555e-6962-40f1-a891-85b810709b9f",
   "metadata": {},
   "source": [
    "In real-world applications, we may want to adjust this threshold based on the costs associated with misclassifications. With this `make_prediction` function you can set the threshold level to adjust this model with the context and avoid misclasifications. For example:\n",
    "\n",
    "- If **false positives** are more costly, we might want to increase the threshold to make the model more conservative.\n",
    "- If **false negatives** are more costly, we might lower the threshold to catch more positives, even if it increases the chance of false positives."
   ]
  },
  {
   "cell_type": "markdown",
   "id": "bff97106-3b57-44ea-8c82-ba4029401369",
   "metadata": {},
   "source": [
    "**Task 2.6**: Use the `make_prediction` function with different threshold values.\n",
    "\n",
    "By calling the function with thresholds of 0.5 and 0.6, we can observe how changing the threshold impacts the model's predictions. This allows stakeholders to understand the flexibility of the model in managing the trade-off between false positives and false negatives."
   ]
  },
  {
   "cell_type": "code",
   "execution_count": 18,
   "id": "f8e788ae-158a-413d-9757-cb7d8ff5396a",
   "metadata": {},
   "outputs": [
    {
     "name": "stdout",
     "output_type": "stream",
     "text": [
      "{'Prediction': 'Class 1 (Positive)', 'Predicted Probability': 0.5009425185041944, 'Threshold': 0.5}\n",
      "{'Prediction': 'Class 0 (Negative)', 'Predicted Probability': 0.5009425185041944, 'Threshold': 0.6}\n"
     ]
    }
   ],
   "source": [
    "# Example usage:\n",
    "prediction_info = make_prediction(threshold=0.5)\n",
    "print(prediction_info)\n",
    "\n",
    "prediction_info = make_prediction(threshold=0.6)\n",
    "print(prediction_info)"
   ]
  },
  {
   "cell_type": "markdown",
   "id": "b5c10f10-5a1e-41ba-8939-fa9ac3c191c8",
   "metadata": {},
   "source": [
    "Now its more flexible! By simply tweaking the threshold to 0.6, we’ve made our model even smarter. This adjustment helps reduce the number of false positives while still capturing true positives. By adjusting this threshold, we’re customizing the model to find the sweet spot where it’s doing the best job at what really matters to us."
   ]
  },
  {
   "cell_type": "markdown",
   "id": "c9204dfa-0f7c-4442-b168-241865b32bee",
   "metadata": {},
   "source": [
    "## Save the Model"
   ]
  },
  {
   "cell_type": "markdown",
   "id": "01985958-c5a2-42b8-8671-f7851f032a6f",
   "metadata": {},
   "source": [
    "**Task 2.7**: Save the `model` to a pickle file.\n",
    "\n",
    "This ensures that the model can be easily saved and reused for future predictions without having to retrain it."
   ]
  },
  {
   "cell_type": "code",
   "execution_count": 19,
   "id": "06a80ab8-ab4e-48a1-821e-ccc9886a2ade",
   "metadata": {},
   "outputs": [
    {
     "data": {
      "text/plain": [
       "['gstn_predictive_model.pkl']"
      ]
     },
     "execution_count": 19,
     "metadata": {},
     "output_type": "execute_result"
    }
   ],
   "source": [
    "import joblib\n",
    "joblib.dump(model, \"gstn_predictive_model.pkl\")"
   ]
  },
  {
   "cell_type": "markdown",
   "id": "7c0a116d-2330-47fc-af8c-787a1dfe4169",
   "metadata": {},
   "source": [
    "***\n",
    "## Citation and Plagiarism Declaration\n",
    "*Libraries Used*\n",
    "\n",
    "- *Scikit-learn - [Copyright (c) 2007-2024 The scikit-learn developers. All rights reserved](https://github.com/scikit-learn/scikit-learn?tab=BSD-3-Clause-1-ov-file).*\n",
    "- *Pandas - [Copyright (c) 2008-2011, AQR Capital Management, LLC, Lambda Foundry, Inc. and PyData Development Team All rights reserved](https://github.com/pandas-dev/pandas?tab=BSD-3-Clause-1-ov-file).*\n",
    "- *Joblib - [Copyright (c) 2008-2021, The joblib developers. All rights reserved](https://github.com/joblib/joblib?tab=BSD-3-Clause-1-ov-file).*\n",
    "- *[Matplotlib](https://matplotlib.org/stable/project/license.html).*\n",
    "- *Seaborn* - [Copyright (c) 2012-2023, Michael L. Waskom All rights reserved](https://github.com/mwaskom/seaborn?tab=BSD-3-Clause-1-ov-file).\n",
    "- *Imbalanced-learn* - [Copyright (c) 2014-2020 The imbalanced-learn developers. All rights reserved](https://github.com/scikit-learn-contrib/imbalanced-learn?tab=MIT-1-ov-file).\n",
    "\n",
    "*Plagiarism Declaration*\n",
    "\n",
    "- *We know that plagiarism means taking and using the ideas, writings, works or inventions of another as if they were one’s own. We know that plagiarism not only includes verbatim copying, but also the extensive use of another person’s ideas without proper acknowledgement. We know that plagiarism covers this sort of use of material found in textual sources and from the Internet.*\n",
    "\n",
    "- *We acknowledge and understand that plagiarism is wrong*.\n",
    "\n",
    "- *We understand that my research must be accurately referenced. I have followed the rules and conventions concerning referencing, citation.*\n",
    "\n",
    "- *This project is my own work, or my group’s own unique group project. We acknowledge that copying someone else’s assignment, or part of it, is wrong, and that submitting identical work to others constitutes a form of plagiarism.*\n",
    "\n",
    "- *We have not allowed, nor will we in the future allow, anyone to copy this work with the intention of passing it off as their own work.*\n",
    "\n",
    "*By submitting this project we (Sreelal S and Anoop Kumar U) acknowledge this Plagiarism Declaration*"
   ]
  },
  {
   "cell_type": "code",
   "execution_count": null,
   "id": "da9fdab6-6843-44cc-a05c-3829c03929ce",
   "metadata": {},
   "outputs": [],
   "source": []
  }
 ],
 "metadata": {
  "kernelspec": {
   "display_name": "Python 3 (ipykernel)",
   "language": "python",
   "name": "python3"
  },
  "language_info": {
   "codemirror_mode": {
    "name": "ipython",
    "version": 3
   },
   "file_extension": ".py",
   "mimetype": "text/x-python",
   "name": "python",
   "nbconvert_exporter": "python",
   "pygments_lexer": "ipython3",
   "version": "3.12.1"
  }
 },
 "nbformat": 4,
 "nbformat_minor": 5
}
